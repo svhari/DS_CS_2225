{
 "cells": [
  {
   "cell_type": "code",
   "execution_count": 1,
   "id": "bf85000d-7d8c-47ac-bccf-ced40cba2095",
   "metadata": {},
   "outputs": [],
   "source": [
    "# M4_Conf_Matrix.ipynb\n",
    "# 14 Jun 2025"
   ]
  },
  {
   "cell_type": "markdown",
   "id": "7d778674-3df5-475d-a80f-f07566bc61e6",
   "metadata": {},
   "source": [
    "### *Confusion Matrix*"
   ]
  },
  {
   "cell_type": "code",
   "execution_count": 2,
   "id": "7c560873-5d46-4375-aefe-b2911817c400",
   "metadata": {},
   "outputs": [
    {
     "name": "stdout",
     "output_type": "stream",
     "text": [
      "[[4 2]\n",
      " [1 3]]\n"
     ]
    }
   ],
   "source": [
    "from sklearn.metrics import confusion_matrix\n",
    "actual =    [1, 1, 1, 1, 0, 0, 0, 0, 0, 0]\n",
    "predicted = [1, 1, 1, 0, 0, 0, 1, 1, 0, 0]\n",
    "cm = confusion_matrix(actual, predicted)\n",
    "print(cm)"
   ]
  },
  {
   "cell_type": "code",
   "execution_count": 3,
   "id": "893ebf73-7fb9-4926-ae37-03088dd2ccf2",
   "metadata": {},
   "outputs": [
    {
     "data": {
      "text/html": [
       "<div>\n",
       "<style scoped>\n",
       "    .dataframe tbody tr th:only-of-type {\n",
       "        vertical-align: middle;\n",
       "    }\n",
       "\n",
       "    .dataframe tbody tr th {\n",
       "        vertical-align: top;\n",
       "    }\n",
       "\n",
       "    .dataframe thead th {\n",
       "        text-align: right;\n",
       "    }\n",
       "</style>\n",
       "<table border=\"1\" class=\"dataframe\">\n",
       "  <thead>\n",
       "    <tr style=\"text-align: right;\">\n",
       "      <th>col_0</th>\n",
       "      <th>0</th>\n",
       "      <th>1</th>\n",
       "    </tr>\n",
       "    <tr>\n",
       "      <th>row_0</th>\n",
       "      <th></th>\n",
       "      <th></th>\n",
       "    </tr>\n",
       "  </thead>\n",
       "  <tbody>\n",
       "    <tr>\n",
       "      <th>0</th>\n",
       "      <td>4</td>\n",
       "      <td>2</td>\n",
       "    </tr>\n",
       "    <tr>\n",
       "      <th>1</th>\n",
       "      <td>1</td>\n",
       "      <td>3</td>\n",
       "    </tr>\n",
       "  </tbody>\n",
       "</table>\n",
       "</div>"
      ],
      "text/plain": [
       "col_0  0  1\n",
       "row_0      \n",
       "0      4  2\n",
       "1      1  3"
      ]
     },
     "execution_count": 3,
     "metadata": {},
     "output_type": "execute_result"
    }
   ],
   "source": [
    "# show the class in the confusion matrix.\n",
    "import pandas as pd\n",
    "pd.crosstab([actual],[predicted])"
   ]
  },
  {
   "cell_type": "markdown",
   "id": "6b42c230-cdc3-479e-bb06-7447dfa3ec86",
   "metadata": {},
   "source": [
    "###  *Accuracy Score*"
   ]
  },
  {
   "cell_type": "code",
   "execution_count": 4,
   "id": "601aaa7a-82a8-4890-92a9-cc7c925a07d4",
   "metadata": {},
   "outputs": [
    {
     "name": "stdout",
     "output_type": "stream",
     "text": [
      "0.7\n"
     ]
    }
   ],
   "source": [
    "from sklearn.metrics import accuracy_score\n",
    "print (accuracy_score(actual,predicted))"
   ]
  },
  {
   "cell_type": "markdown",
   "id": "cb2fbbd6-c165-49d7-b61e-7e3ad0299c41",
   "metadata": {},
   "source": [
    "### *Classification report*\n",
    "\n",
    "support → tells the number of records."
   ]
  },
  {
   "cell_type": "code",
   "execution_count": 5,
   "id": "17b91448-0754-456d-814e-2ca9bbde7854",
   "metadata": {},
   "outputs": [
    {
     "name": "stdout",
     "output_type": "stream",
     "text": [
      "              precision    recall  f1-score   support\n",
      "\n",
      "           0       0.80      0.67      0.73         6\n",
      "           1       0.60      0.75      0.67         4\n",
      "\n",
      "    accuracy                           0.70        10\n",
      "   macro avg       0.70      0.71      0.70        10\n",
      "weighted avg       0.72      0.70      0.70        10\n",
      "\n"
     ]
    }
   ],
   "source": [
    "from sklearn.metrics import classification_report\n",
    "print (classification_report(actual,predicted))"
   ]
  },
  {
   "cell_type": "markdown",
   "id": "7945cde7-874f-4ce1-9542-a6b01c3034f6",
   "metadata": {},
   "source": [
    "### *Visualize confusion matrix using seaborn*"
   ]
  },
  {
   "cell_type": "code",
   "execution_count": 6,
   "id": "6d3ba9de-222a-4f3b-a0a6-6153676c410f",
   "metadata": {},
   "outputs": [
    {
     "data": {
      "text/plain": [
       "<Axes: >"
      ]
     },
     "execution_count": 6,
     "metadata": {},
     "output_type": "execute_result"
    },
    {
     "data": {
      "image/png": "[encoded data removed]",
      "text/plain": [
       "<Figure size 640x480 with 2 Axes>"
      ]
     },
     "metadata": {},
     "output_type": "display_data"
    }
   ],
   "source": [
    "import seaborn as sns\n",
    "sns.heatmap(cm, annot=True)"
   ]
  },
  {
   "cell_type": "markdown",
   "id": "ac24d52e-64f2-4d74-877c-82bd81a5ead7",
   "metadata": {},
   "source": [
    "### *Remarks*\n",
    "\n",
    "Classification output can be either class output or probability output. \n",
    "For classification problems with class output, the confusion matrix is used. \n",
    "For classification problems with probability output, ROC Curve is used."
   ]
  },
  {
   "cell_type": "code",
   "execution_count": null,
   "id": "f164e054-33ec-44c8-a4db-ebb1fa1ff256",
   "metadata": {},
   "outputs": [],
   "source": []
  }
 ],
 "metadata": {
  "kernelspec": {
   "display_name": "Python 3 (ipykernel)",
   "language": "python",
   "name": "python3"
  },
  "language_info": {
   "codemirror_mode": {
    "name": "ipython",
    "version": 3
   },
   "file_extension": ".py",
   "mimetype": "text/x-python",
   "name": "python",
   "nbconvert_exporter": "python",
   "pygments_lexer": "ipython3",
   "version": "3.12.3"
  }
 },
 "nbformat": 4,
 "nbformat_minor": 5
}
